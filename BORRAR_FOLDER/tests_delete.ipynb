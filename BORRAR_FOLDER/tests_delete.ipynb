{
 "cells": [
  {
   "cell_type": "code",
   "execution_count": 1,
   "metadata": {},
   "outputs": [],
   "source": [
    "import os\n",
    "import random\n",
    "import numpy as np\n",
    "import matplotlib.pyplot as plt\n",
    "from collections import deque\n",
    "from enum import Enum, IntEnum"
   ]
  },
  {
   "cell_type": "markdown",
   "metadata": {},
   "source": [
    "## **Without toroidal wrapping**"
   ]
  },
  {
   "cell_type": "code",
   "execution_count": 2,
   "metadata": {},
   "outputs": [],
   "source": [
    "class Move_State(IntEnum):\n",
    "    VALID = 1\n",
    "    INVALID = 0"
   ]
  },
  {
   "cell_type": "code",
   "execution_count": 24,
   "metadata": {},
   "outputs": [
    {
     "name": "stdout",
     "output_type": "stream",
     "text": [
      "[ 0  1  2  3  6  7  8  9 10 11 12 13 14 15 16 17 18 19]\n"
     ]
    }
   ],
   "source": [
    "array_1d = np.arange(20)\n",
    "array_1d = np.delete(array_1d, [4,5])\n",
    "print(array_1d)"
   ]
  },
  {
   "cell_type": "code",
   "execution_count": 26,
   "metadata": {},
   "outputs": [
    {
     "name": "stdout",
     "output_type": "stream",
     "text": [
      "[[ 0  1  2  3  4]\n",
      " [ 5  6  7  8  9]\n",
      " [10 11 12 13 14]\n",
      " [15 16 17 18 19]]\n",
      "Index selected: 8\n",
      "Neighbor indices: [3, 13, 7, 9]\n",
      "Valid neighbor indices: [3, 13, 7, 9]\n",
      "Max cell value: 13\n"
     ]
    }
   ],
   "source": [
    "array_1d = np.arange(20)\n",
    "n_rows = 4\n",
    "n_cols = 5\n",
    "aux_matrix = array_1d.reshape(n_rows, n_cols)\n",
    "print(aux_matrix)\n",
    "\n",
    "index_to_select = 8\n",
    "print(f\"Index selected: {index_to_select}\")\n",
    "\n",
    "cell_row = index_to_select // n_cols\n",
    "cell_col = index_to_select % n_cols\n",
    "above_idx = (cell_row - 1) * n_cols + cell_col\n",
    "below_idx = (cell_row + 1) * n_cols + cell_col\n",
    "left_idx = cell_row * n_cols + (cell_col - 1)\n",
    "right_idx = cell_row * n_cols + (cell_col + 1)\n",
    "\n",
    "neighbor_indices = [above_idx, below_idx, left_idx, right_idx]\n",
    "print(\"Neighbor indices:\", neighbor_indices)\n",
    "\n",
    "for i, idx in enumerate(neighbor_indices.copy()):\n",
    "    # Check if index is within valid range\n",
    "    if idx < 0 or idx >= array_1d.size:\n",
    "        neighbor_indices.remove(idx)\n",
    "        continue\n",
    "\n",
    "    # For horizontal neighbors, ensure they remain in the same row as 'index_to_select'\n",
    "    neighbor_row = idx // n_cols\n",
    "    if abs(idx - index_to_select) == 1 and neighbor_row != cell_row:\n",
    "        neighbor_indices.remove(idx)\n",
    "\n",
    "print(\"Valid neighbor indices:\", neighbor_indices)\n",
    "print(\"Max cell value:\", np.max(array_1d[neighbor_indices]))"
   ]
  },
  {
   "cell_type": "markdown",
   "metadata": {},
   "source": [
    "---\n",
    "---\n",
    "---"
   ]
  },
  {
   "cell_type": "code",
   "execution_count": null,
   "metadata": {},
   "outputs": [],
   "source": [
    "epsilon_max = 1.0\n",
    "epsilon_min = 0.01\n",
    "epsilon_history = []\n",
    "episodes = 100\n",
    "for i in range(episodes):\n",
    "    # Use episodes-1 in the denominator to ensure epsilon_min is reached at the final episode\n",
    "    epsilon = epsilon_min + 0.5 * (epsilon_max - epsilon_min) * (1 + np.cos(np.pi * i / (episodes - 1)))\n",
    "    epsilon_history.append(epsilon)\n",
    "\n",
    "def plot_epsilon_history(epsilon_history: list, file_name: str) -> None:\n",
    "    \"\"\"\n",
    "    Plot the epsilon history during the training process.\n",
    "    \"\"\"\n",
    "    plt.figure(figsize=(12, 6))\n",
    "    plt.plot(epsilon_history, label='Epsilon')\n",
    "    plt.xlabel('Episodes')\n",
    "    plt.ylabel('Epsilon')\n",
    "    plt.title('Epsilon vs Episodes')\n",
    "    plt.legend()\n",
    "    plt.savefig(file_name) # always in folder results\n",
    "    plt.close()\n",
    "\n",
    "plot_epsilon_history(epsilon_history, 'results/V3_version/epsilon_history.png')"
   ]
  },
  {
   "cell_type": "code",
   "execution_count": 25,
   "metadata": {},
   "outputs": [
    {
     "name": "stdout",
     "output_type": "stream",
     "text": [
      "Total number of values in q_table: 342225\n",
      "Number of zeros in q_table: 291003\n",
      "Number of -1 in q_table: 0\n",
      "Percentage of zeros in q_table: 85.03%\n",
      "**************************************************\n",
      "Top 10 most repeated values and their counts:\n",
      "Value: 0.0, Count: 291003\n",
      "Value: nan, Count: 48863\n",
      "Value: -0.01, Count: 1583\n",
      "Value: -inf, Count: 523\n",
      "Value: 0.15, Count: 253\n",
      "Sum of counts of the top 10 most repeated values: 342225\n",
      "**************************************************\n",
      "Number of positive values in q_table: 253\n",
      "Top 10 most repeated positive values and their counts\n",
      "Value: 0.15, Count: 253\n"
     ]
    }
   ],
   "source": [
    "q_table = np.loadtxt('results/V3_version/V3_1_Qtable_585_100.txt')\n",
    "\n",
    "print(f\"Total number of values in q_table: {q_table.size}\")\n",
    "\n",
    "num_zeros = np.count_nonzero(q_table == 0)\n",
    "print(f\"Number of zeros in q_table: {num_zeros}\")\n",
    "\n",
    "num_neg_ones = np.count_nonzero(q_table == -1)\n",
    "print(f\"Number of -1 in q_table: {num_neg_ones}\")\n",
    "\n",
    "percentage_zeros = (num_zeros / q_table.size) * 100\n",
    "print(f\"Percentage of zeros in q_table: {percentage_zeros:.2f}%\")\n",
    "print(\"*\"*50)\n",
    "\n",
    "# Get unique values and their counts\n",
    "unique_values, counts = np.unique(q_table, return_counts=True)\n",
    "\n",
    "# Create a list of tuples (value, count) and sort it by count in descending order\n",
    "value_counts = sorted(zip(unique_values, counts), key=lambda x: x[1], reverse=True)\n",
    "\n",
    "# Get the top 10 most repeated values and their counts\n",
    "top_10_values = value_counts[:10]\n",
    "\n",
    "print(\"Top 10 most repeated values and their counts:\")\n",
    "for value, count in top_10_values:\n",
    "    print(f\"Value: {value}, Count: {count}\")\n",
    "\n",
    "# Calculate the sum of counts of the top 10 most repeated values\n",
    "sum_top_10_counts = sum(count for _, count in top_10_values)\n",
    "print(f\"Sum of counts of the top 10 most repeated values: {sum_top_10_counts}\")\n",
    "print(\"*\"*50)\n",
    "\n",
    "num_positive_values = np.count_nonzero(q_table > 0)\n",
    "print(f\"Number of positive values in q_table: {num_positive_values}\")\n",
    "\n",
    "# Get unique positive values and their counts\n",
    "unique_values, counts = np.unique(q_table[q_table > 0], return_counts=True)\n",
    "\n",
    "# Create a list of tuples (value, count) and sort it by count in descending order\n",
    "value_counts = sorted(zip(unique_values, counts), key=lambda x: x[1], reverse=True)\n",
    "\n",
    "# Get the top 10 most repeated positive values and their counts\n",
    "top_10_positive_values = value_counts[:10]\n",
    "\n",
    "print(\"Top 10 most repeated positive values and their counts\")\n",
    "for value, count in sorted(top_10_positive_values, reverse=True):\n",
    "    print(f\"Value: {value}, Count: {count}\")"
   ]
  },
  {
   "cell_type": "code",
   "execution_count": 2,
   "metadata": {},
   "outputs": [],
   "source": [
    "# Read lists from a txt file\n",
    "with open('../../results/data.txt', 'r') as f:\n",
    "    lines = f.readlines()\n",
    "    rewards = eval(lines[0].split(': ')[1])\n",
    "    max_rewards = eval(lines[1].split(': ')[1])\n",
    "    actions_done = eval(lines[2].split(': ')[1])\n",
    "    min_actions_done = eval(lines[3].split(': ')[1])\n",
    "    areas_scratched = eval(lines[4].split(': ')[1])\n",
    "    min_areas_scratched = eval(lines[5].split(': ')[1])\n",
    "\n",
    "# # Save lists to a txt file\n",
    "# with open('results/data.txt', 'w') as f:\n",
    "#     f.write(f\"rewards: {rewards}\\n\")\n",
    "#     f.write(f\"max_rewards: {max_rewards}\\n\")\n",
    "#     f.write(f\"actions_done: {actions_done}\\n\")\n",
    "#     f.write(f\"min_actions_done: {min_actions_done}\\n\")\n",
    "#     f.write(f\"areas_scratched: {areas_scratched}\\n\")\n",
    "#     f.write(f\"min_areas_scratched: {min_areas_scratched}\\n\")"
   ]
  }
 ],
 "metadata": {
  "kernelspec": {
   "display_name": ".venv",
   "language": "python",
   "name": "python3"
  },
  "language_info": {
   "codemirror_mode": {
    "name": "ipython",
    "version": 3
   },
   "file_extension": ".py",
   "mimetype": "text/x-python",
   "name": "python",
   "nbconvert_exporter": "python",
   "pygments_lexer": "ipython3",
   "version": "3.11.5"
  }
 },
 "nbformat": 4,
 "nbformat_minor": 2
}
