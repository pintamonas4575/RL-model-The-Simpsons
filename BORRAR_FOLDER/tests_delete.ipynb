{
 "cells": [
  {
   "cell_type": "code",
   "execution_count": 2,
   "metadata": {},
   "outputs": [],
   "source": [
    "import os\n",
    "import random\n",
    "import numpy as np\n",
    "import pandas as pd\n",
    "import matplotlib.pyplot as plt"
   ]
  },
  {
   "cell_type": "code",
   "execution_count": 15,
   "metadata": {},
   "outputs": [
    {
     "name": "stdout",
     "output_type": "stream",
     "text": [
      "<class 'pandas.core.frame.DataFrame'>\n",
      "RangeIndex: 160 entries, 0 to 159\n",
      "Data columns (total 4 columns):\n",
      " #   Column  Non-Null Count  Dtype  \n",
      "---  ------  --------------  -----  \n",
      " 0   up      160 non-null    float64\n",
      " 1   down    160 non-null    float64\n",
      " 2   left    160 non-null    float64\n",
      " 3   right   160 non-null    float64\n",
      "dtypes: float64(4)\n",
      "memory usage: 5.1 KB\n"
     ]
    }
   ],
   "source": [
    "# Read the Q-table from the txt file into a DataFrame\n",
    "qtable_df = pd.read_csv(\"../results/V4_version/V4_1_Qtable_160_100.txt\", header=None, sep=\" \")\n",
    "qtable_df.columns = [\"up\", \"down\", \"left\", \"right\"]\n",
    "qtable_df.info(memory_usage=\"deep\")"
   ]
  },
  {
   "cell_type": "code",
   "execution_count": 8,
   "metadata": {},
   "outputs": [
    {
     "name": "stdout",
     "output_type": "stream",
     "text": [
      "Vecinos de la celda 0: [-1  3 -1  1]\n",
      "Valores de los vecinos: [40, 20]\n"
     ]
    }
   ],
   "source": [
    "data = np.array([10, 20, 30, 40, 50, 60, 70, 80, 90]) # array con todas las celdas\n",
    "number_of_columns = 3\n",
    "\n",
    "def get_neighbor_indices(cell_index: int) -> np.ndarray:\n",
    "    \"\"\"Get the valid actions for the agent. The agent can only move to the neighbors of the selected cell.\"\"\"\n",
    "    cell_row = cell_index // number_of_columns\n",
    "    cell_col = cell_index % number_of_columns\n",
    "    above_idx = (cell_row - 1) * number_of_columns + cell_col\n",
    "    below_idx = (cell_row + 1) * number_of_columns + cell_col\n",
    "    left_idx = cell_row * number_of_columns + (cell_col - 1)\n",
    "    right_idx = cell_row * number_of_columns + (cell_col + 1)\n",
    "\n",
    "    neighbor_indices = [above_idx, below_idx, left_idx, right_idx]\n",
    "\n",
    "    for i, idx in enumerate(neighbor_indices.copy()):\n",
    "        # Check if index is within valid range\n",
    "        if idx < 0 or idx >= len(data):\n",
    "            neighbor_indices[i] = -1  # Mark as invalid\n",
    "            continue\n",
    "\n",
    "        # For horizontal neighbors, ensure they remain in the same row as 'index_to_select'\n",
    "        neighbor_row = idx // number_of_columns\n",
    "        if abs(idx - cell_index) == 1 and neighbor_row != cell_row:\n",
    "            neighbor_indices[i] = -1  # Mark as invalid\n",
    "\n",
    "    return np.array(neighbor_indices)\n",
    "\n",
    "index = 0\n",
    "vecinos = get_neighbor_indices(index)\n",
    "print(f\"Vecinos de la celda {index}: {vecinos}\")\n",
    "print(f\"Valores de los vecinos: {[data[i] for i in vecinos if i != -1]}\")"
   ]
  },
  {
   "cell_type": "code",
   "execution_count": 13,
   "metadata": {},
   "outputs": [
    {
     "data": {
      "image/png": "[encoded data removed]",
      "text/plain": [
       "<Figure size 640x480 with 2 Axes>"
      ]
     },
     "metadata": {},
     "output_type": "display_data"
    }
   ],
   "source": [
    "data = np.array([10, 20, 30, 40, 50, 60, 70, 80, 90]) # array con todas las celdas\n",
    "\n",
    "number_of_rows = len(data) // number_of_columns\n",
    "data = data.reshape((number_of_rows, number_of_columns))\n",
    "plt.imshow(data, interpolation='nearest')\n",
    "plt.colorbar()\n",
    "rows, cols = data.shape\n",
    "for i in range(rows):\n",
    "    for j in range(cols):\n",
    "        plt.text(j, i, str(data[i, j]), ha='center', va='center', color='cyan', fontsize=12)\n",
    "plt.show()"
   ]
  },
  {
   "cell_type": "code",
   "execution_count": null,
   "metadata": {},
   "outputs": [
    {
     "name": "stdout",
     "output_type": "stream",
     "text": [
      "data: [ 10  20  30  40  50  60  70  80  90 100]\n",
      "neighbor_indices: [-1  9  3 -1]\n",
      "mask: [False  True  True False]\n",
      "valid_positions: [1 2]\n",
      "corresponding_indices: [9 3]\n",
      "corresponding array values: [100  40]\n"
     ]
    }
   ],
   "source": [
    "# Ejemplo de arrays\n",
    "neighbor_indices = np.array([-1, 9, 3, -1])\n",
    "data = np.array([10, 20, 30, 40, 50, 60, 70, 80, 90, 100]) # array con todas las celdas\n",
    "print(f\"data: {data}\")\n",
    "\n",
    "print(f\"neighbor_indices: {neighbor_indices}\")  # → [-1, 9, 3, -1]\n",
    "mask = neighbor_indices != -1       # → [False,  True,  True, False]\n",
    "print(f\"mask: {mask}\")\n",
    "valid_positions = np.where(neighbor_indices != -1)[0]\n",
    "print(f\"valid_positions: {valid_positions}\")  # con esto habría que elegir de la q-table\n",
    "\n",
    "corresponding_indices = neighbor_indices[mask]       # cuando se elija el índice de la q-table, la celda con este índice será el próximo estado\n",
    "print(f\"corresponding_indices: {corresponding_indices}\")\n",
    "result = data[corresponding_indices]                 # → [100, 40]\n",
    "print(f\"corresponding array values: {result}\")"
   ]
  },
  {
   "cell_type": "markdown",
   "metadata": {},
   "source": [
    "## **Without toroidal wrapping**"
   ]
  },
  {
   "cell_type": "code",
   "execution_count": 18,
   "metadata": {},
   "outputs": [
    {
     "name": "stdout",
     "output_type": "stream",
     "text": [
      "[[  0  20  40  60  80]\n",
      " [100 120 140 160 180]\n",
      " [200 220 240 260 280]\n",
      " [300 320 340 360 380]]\n",
      "Index selected: 4\n",
      "Value at index 4: 80\n",
      "Neighbor indices: [-1, 9, 3, 5]\n",
      "All neighbor indices: [-1  9  3 -1]\n",
      "Valid neighbor indices: [9 3]\n"
     ]
    }
   ],
   "source": [
    "array_1d = np.arange(20)\n",
    "array_1d = array_1d * 20\n",
    "n_rows = 4\n",
    "n_cols = 5\n",
    "aux_matrix = array_1d.reshape(n_rows, n_cols)\n",
    "print(aux_matrix)\n",
    "\n",
    "index_to_select = 4\n",
    "print(f\"Index selected: {index_to_select}\")\n",
    "print(f\"Value at index {index_to_select}: {array_1d[index_to_select]}\")\n",
    "\n",
    "cell_row = index_to_select // n_cols\n",
    "cell_col = index_to_select % n_cols\n",
    "above_idx = (cell_row - 1) * n_cols + cell_col\n",
    "below_idx = (cell_row + 1) * n_cols + cell_col\n",
    "left_idx = cell_row * n_cols + (cell_col - 1)\n",
    "right_idx = cell_row * n_cols + (cell_col + 1)\n",
    "\n",
    "neighbor_indices = [above_idx, below_idx, left_idx, right_idx]\n",
    "print(\"Neighbor indices:\", neighbor_indices)\n",
    "\n",
    "for i, idx in enumerate(neighbor_indices.copy()):\n",
    "    # Check if index is within valid range\n",
    "    if idx < 0 or idx >= array_1d.size:\n",
    "        neighbor_indices[i] = -1  # Mark as invalid\n",
    "        continue\n",
    "\n",
    "    # For horizontal neighbors, ensure they remain in the same row as 'index_to_select'\n",
    "    neighbor_row = idx // n_cols\n",
    "    if abs(idx - index_to_select) == 1 and neighbor_row != cell_row:\n",
    "        neighbor_indices[i] = -1  # Mark as invalid\n",
    "\n",
    "neighbor_indices = np.array(neighbor_indices)\n",
    "print(\"All neighbor indices:\", neighbor_indices)\n",
    "print(\"Valid neighbor indices:\", neighbor_indices[neighbor_indices != -1])\n",
    "# print(\"valid 'cells':\", array_1d)\n",
    "# print(\"Max cell value:\", np.max(array_1d[neighbor_indices]))"
   ]
  },
  {
   "cell_type": "code",
   "execution_count": 42,
   "metadata": {},
   "outputs": [
    {
     "name": "stdout",
     "output_type": "stream",
     "text": [
      "[[ 0  1  2  3]\n",
      " [ 4  5  6  7]\n",
      " [ 8  9 10 11]\n",
      " [12 13 14 15]\n",
      " [16 17 18 19]]\n",
      "[1 2 3]\n",
      "Values in row 0 at columns [1, 3]: [1 3]\n"
     ]
    }
   ],
   "source": [
    "# Create a 5x4 numpy array with values 0 to 19\n",
    "array_5x4 = np.arange(20).reshape(5, 4)\n",
    "print(array_5x4)\n",
    "\n",
    "# Define which row and the list of column indices you want to extract\n",
    "row_index = 0  # you can change this to any valid row index (0 to 4)\n",
    "col_indices = [1, 3]  # example column indices\n",
    "posibles = np.where(array_5x4[row_index] != 0)[0]\n",
    "print(posibles)\n",
    "\n",
    "print(f\"Values in row {row_index} at columns {col_indices}: {array_5x4[row_index, col_indices]}\")"
   ]
  },
  {
   "cell_type": "markdown",
   "metadata": {},
   "source": [
    "## **Separate cells**"
   ]
  },
  {
   "cell_type": "code",
   "execution_count": null,
   "metadata": {},
   "outputs": [],
   "source": [
    "epsilon_max = 1.0\n",
    "epsilon_min = 0.01\n",
    "epsilon_history = []\n",
    "episodes = 100\n",
    "for i in range(episodes):\n",
    "    # Use episodes-1 in the denominator to ensure epsilon_min is reached at the final episode\n",
    "    epsilon = epsilon_min + 0.5 * (epsilon_max - epsilon_min) * (1 + np.cos(np.pi * i / (episodes - 1)))\n",
    "    epsilon_history.append(epsilon)\n",
    "\n",
    "def plot_epsilon_history(epsilon_history: list, file_name: str) -> None:\n",
    "    \"\"\"\n",
    "    Plot the epsilon history during the training process.\n",
    "    \"\"\"\n",
    "    plt.figure(figsize=(12, 6))\n",
    "    plt.plot(epsilon_history, label='Epsilon')\n",
    "    plt.xlabel('Episodes')\n",
    "    plt.ylabel('Epsilon')\n",
    "    plt.title('Epsilon vs Episodes')\n",
    "    plt.legend()\n",
    "    plt.savefig(file_name) # always in folder results\n",
    "    plt.close()\n",
    "\n",
    "plot_epsilon_history(epsilon_history, 'results/V3_version/epsilon_history.png')"
   ]
  },
  {
   "cell_type": "code",
   "execution_count": 25,
   "metadata": {},
   "outputs": [
    {
     "name": "stdout",
     "output_type": "stream",
     "text": [
      "Total number of values in q_table: 342225\n",
      "Number of zeros in q_table: 291003\n",
      "Number of -1 in q_table: 0\n",
      "Percentage of zeros in q_table: 85.03%\n",
      "**************************************************\n",
      "Top 10 most repeated values and their counts:\n",
      "Value: 0.0, Count: 291003\n",
      "Value: nan, Count: 48863\n",
      "Value: -0.01, Count: 1583\n",
      "Value: -inf, Count: 523\n",
      "Value: 0.15, Count: 253\n",
      "Sum of counts of the top 10 most repeated values: 342225\n",
      "**************************************************\n",
      "Number of positive values in q_table: 253\n",
      "Top 10 most repeated positive values and their counts\n",
      "Value: 0.15, Count: 253\n"
     ]
    }
   ],
   "source": [
    "q_table = np.loadtxt('results/V3_version/V3_1_Qtable_585_100.txt')\n",
    "\n",
    "print(f\"Total number of values in q_table: {q_table.size}\")\n",
    "\n",
    "num_zeros = np.count_nonzero(q_table == 0)\n",
    "print(f\"Number of zeros in q_table: {num_zeros}\")\n",
    "\n",
    "num_neg_ones = np.count_nonzero(q_table == -1)\n",
    "print(f\"Number of -1 in q_table: {num_neg_ones}\")\n",
    "\n",
    "percentage_zeros = (num_zeros / q_table.size) * 100\n",
    "print(f\"Percentage of zeros in q_table: {percentage_zeros:.2f}%\")\n",
    "print(\"*\"*50)\n",
    "\n",
    "# Get unique values and their counts\n",
    "unique_values, counts = np.unique(q_table, return_counts=True)\n",
    "\n",
    "# Create a list of tuples (value, count) and sort it by count in descending order\n",
    "value_counts = sorted(zip(unique_values, counts), key=lambda x: x[1], reverse=True)\n",
    "\n",
    "# Get the top 10 most repeated values and their counts\n",
    "top_10_values = value_counts[:10]\n",
    "\n",
    "print(\"Top 10 most repeated values and their counts:\")\n",
    "for value, count in top_10_values:\n",
    "    print(f\"Value: {value}, Count: {count}\")\n",
    "\n",
    "# Calculate the sum of counts of the top 10 most repeated values\n",
    "sum_top_10_counts = sum(count for _, count in top_10_values)\n",
    "print(f\"Sum of counts of the top 10 most repeated values: {sum_top_10_counts}\")\n",
    "print(\"*\"*50)\n",
    "\n",
    "num_positive_values = np.count_nonzero(q_table > 0)\n",
    "print(f\"Number of positive values in q_table: {num_positive_values}\")\n",
    "\n",
    "# Get unique positive values and their counts\n",
    "unique_values, counts = np.unique(q_table[q_table > 0], return_counts=True)\n",
    "\n",
    "# Create a list of tuples (value, count) and sort it by count in descending order\n",
    "value_counts = sorted(zip(unique_values, counts), key=lambda x: x[1], reverse=True)\n",
    "\n",
    "# Get the top 10 most repeated positive values and their counts\n",
    "top_10_positive_values = value_counts[:10]\n",
    "\n",
    "print(\"Top 10 most repeated positive values and their counts\")\n",
    "for value, count in sorted(top_10_positive_values, reverse=True):\n",
    "    print(f\"Value: {value}, Count: {count}\")"
   ]
  },
  {
   "cell_type": "code",
   "execution_count": 2,
   "metadata": {},
   "outputs": [],
   "source": [
    "# Read lists from a txt file\n",
    "with open('../../results/data.txt', 'r') as f:\n",
    "    lines = f.readlines()\n",
    "    rewards = eval(lines[0].split(': ')[1])\n",
    "    max_rewards = eval(lines[1].split(': ')[1])\n",
    "    actions_done = eval(lines[2].split(': ')[1])\n",
    "    min_actions_done = eval(lines[3].split(': ')[1])\n",
    "    areas_scratched = eval(lines[4].split(': ')[1])\n",
    "    min_areas_scratched = eval(lines[5].split(': ')[1])\n",
    "\n",
    "# # Save lists to a txt file\n",
    "# with open('results/data.txt', 'w') as f:\n",
    "#     f.write(f\"rewards: {rewards}\\n\")\n",
    "#     f.write(f\"max_rewards: {max_rewards}\\n\")\n",
    "#     f.write(f\"actions_done: {actions_done}\\n\")\n",
    "#     f.write(f\"min_actions_done: {min_actions_done}\\n\")\n",
    "#     f.write(f\"areas_scratched: {areas_scratched}\\n\")\n",
    "#     f.write(f\"min_areas_scratched: {min_areas_scratched}\\n\")"
   ]
  }
 ],
 "metadata": {
  "kernelspec": {
   "display_name": ".venv",
   "language": "python",
   "name": "python3"
  },
  "language_info": {
   "codemirror_mode": {
    "name": "ipython",
    "version": 3
   },
   "file_extension": ".py",
   "mimetype": "text/x-python",
   "name": "python",
   "nbconvert_exporter": "python",
   "pygments_lexer": "ipython3",
   "version": "3.11.5"
  }
 },
 "nbformat": 4,
 "nbformat_minor": 2
}
