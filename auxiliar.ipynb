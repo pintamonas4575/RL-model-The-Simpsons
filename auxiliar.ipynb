{
 "cells": [
  {
   "cell_type": "markdown",
   "metadata": {},
   "source": [
    "## **Beta advances**"
   ]
  },
  {
   "cell_type": "code",
   "execution_count": null,
   "metadata": {},
   "outputs": [],
   "source": [
    "import tkinter as tk\n",
    "import random\n",
    "from tkinter import ttk\n",
    "\n",
    "# symbols = [\"🔨\", \"🪓\", \"💣\", \"🍩\", \"⭐\"]\n",
    "symbols = [\"hammer.png\", \"axe.png\", \"bomb.png\", \"doughnut.png\", \"star.png\"]\n",
    "emojis = random.choices(symbols, k=3)\n",
    "\n",
    "try:\n",
    "    window = tk.Tk()\n",
    "    # window.config(bg='black')\n",
    "    window.title(\"RL model Scratch & Win\")\n",
    "    window.geometry('1000x500')\n",
    "\n",
    "    # mantener \"vivas\" las imágenes\n",
    "    images = []\n",
    "\n",
    "    for i, emoji in enumerate(emojis):\n",
    "        emoji_image = tk.PhotoImage(name=emoji, file=f\"emojis/{emoji}\")\n",
    "        emoji_image = emoji_image.subsample(1, 1)\n",
    "        images.append(emoji_image)  # Guardar referencia de la imagen\n",
    "        label = ttk.Label(window, image=emoji_image)\n",
    "        label.place(relx=0.3 + i * 0.2, rely=0.5, anchor=\"center\")\n",
    "\n",
    "    window.mainloop()\n",
    "\n",
    "except Exception as e:\n",
    "    print(e)\n",
    "    window.destroy()"
   ]
  },
  {
   "cell_type": "markdown",
   "metadata": {},
   "source": [
    "---"
   ]
  },
  {
   "cell_type": "markdown",
   "metadata": {},
   "source": [
    "**This cell only works in .py**"
   ]
  },
  {
   "cell_type": "code",
   "execution_count": null,
   "metadata": {},
   "outputs": [],
   "source": [
    "import tkinter as tk\n",
    "import random\n",
    "from tkinter import ttk\n",
    "from PIL import ImageGrab\n",
    "\n",
    "def capturar_y_guardar():\n",
    "    try:\n",
    "        # Obtener las coordenadas de la ventana\n",
    "        x = window.winfo_rootx()\n",
    "        y = window.winfo_rooty()\n",
    "        width = window.winfo_width()\n",
    "        height = window.winfo_height()\n",
    "\n",
    "        # Capturar la ventana\n",
    "        imagen = ImageGrab.grab(bbox=(x, y, x + width, y + height))\n",
    "        imagen.save(\"captura_ventana.png\")  # Guardar la imagen\n",
    "        print(\"Captura guardada como 'captura_ventana.png'\")\n",
    "        window.quit()  # Cerrar la ventana (opcional)\n",
    "    except Exception as e:\n",
    "        print(\"Error al capturar la ventana:\", e)\n",
    "\n",
    "symbols = [\"hammer.png\", \"axe.png\", \"bomb.png\", \"doughnut.png\", \"star.png\"]\n",
    "emojis = random.choices(symbols, k=3)\n",
    "\n",
    "try:\n",
    "    window = tk.Tk()\n",
    "    # window.config(bg='black')\n",
    "    window.title(\"RL model Scratch & Win\")\n",
    "    window.geometry('1000x500')\n",
    "\n",
    "    # mantener \"vivas\" las imágenes\n",
    "    images = []\n",
    "\n",
    "    for i, emoji in enumerate(emojis):\n",
    "        emoji_image = tk.PhotoImage(name=emoji, file=f\"emojis/{emoji}\")\n",
    "        emoji_image = emoji_image.subsample(1, 1)\n",
    "        images.append(emoji_image)  # Guardar referencia de la imagen\n",
    "        label = ttk.Label(window, image=emoji_image)\n",
    "        label.place(relx=0.3 + i * 0.2, rely=0.5, anchor=\"center\")\n",
    "\n",
    "    window.after(1000, capturar_y_guardar)  # Esperar 100ms antes de capturar\n",
    "    window.mainloop()\n",
    "\n",
    "except Exception as e:\n",
    "    print(e)\n",
    "    window.destroy()"
   ]
  },
  {
   "cell_type": "markdown",
   "metadata": {},
   "source": [
    "---"
   ]
  },
  {
   "cell_type": "markdown",
   "metadata": {},
   "source": [
    "## **Background image**"
   ]
  },
  {
   "cell_type": "code",
   "execution_count": null,
   "metadata": {},
   "outputs": [],
   "source": [
    "# Import module \n",
    "from tkinter import Tk, Canvas\n",
    "from PIL import ImageTk, Image\n",
    "\n",
    "root = Tk() \n",
    "root.geometry(\"1000x500\") \n",
    "\n",
    "path = \"hola.png\"\n",
    "#Creates a Tkinter-compatible photo image, which can be used everywhere Tkinter expects an image object.\n",
    "bg = ImageTk.PhotoImage(Image.open(path))\n",
    "\n",
    "# Create Canvas \n",
    "canvas1 = Canvas( root, width = 400, height = 400) \n",
    "canvas1.pack(fill = \"both\", expand = True) \n",
    "\n",
    "# Display image \n",
    "canvas1.create_image( 0, 0, image = bg, anchor = \"nw\") \n",
    "\n",
    "# Execute tkinter \n",
    "root.mainloop() "
   ]
  },
  {
   "cell_type": "markdown",
   "metadata": {},
   "source": [
    "----"
   ]
  },
  {
   "cell_type": "markdown",
   "metadata": {},
   "source": [
    "## **See binary mask**"
   ]
  },
  {
   "cell_type": "code",
   "execution_count": 3,
   "metadata": {},
   "outputs": [
    {
     "name": "stdout",
     "output_type": "stream",
     "text": [
      "total_symbol_pixels=98783\n"
     ]
    }
   ],
   "source": [
    "from PIL import Image\n",
    "\n",
    "# Cargar la imagen de contornos\n",
    "contour_image_path = \"3-outer-contours.png\"\n",
    "contour_image = Image.open(contour_image_path).convert(\"RGB\")\n",
    "\n",
    "# Crear una nueva imagen en modo '1' (binaria) para la máscara\n",
    "contour_mask = Image.new(\"1\", contour_image.size)\n",
    "\n",
    "# Obtener los píxeles de la imagen original y de la máscara\n",
    "pixels = contour_image.load()\n",
    "mask_pixels = contour_mask.load()\n",
    "\n",
    "# Crear la máscara binaria detectando tonos de rojo\n",
    "for x in range(contour_image.width):\n",
    "    for y in range(contour_image.height):\n",
    "        r, g, b = pixels[x, y]\n",
    "        # Detectar si el píxel es rojo (usar un rango)\n",
    "        if r > 150 and g < 100 and b < 100:\n",
    "            mask_pixels[x, y] = 1  # Píxel blanco en la máscara\n",
    "        else:\n",
    "            mask_pixels[x, y] = 0  # Píxel negro en la máscara\n",
    "\n",
    "# Obtener las dimensiones del área delimitada por los contornos\n",
    "bbox = contour_mask.getbbox()\n",
    "if bbox:\n",
    "    total_symbol_pixels = (bbox[2] - bbox[0]) * (bbox[3] - bbox[1])\n",
    "    print(f\"{total_symbol_pixels=}\")\n",
    "else:\n",
    "    print(\"No se detectaron contornos en la máscara. Verifica la conversión.\")\n",
    "    total_symbol_pixels = 0\n",
    "\n",
    "# Mostrar la máscara para confirmar visualmente si funciona\n",
    "contour_mask.show()"
   ]
  },
  {
   "cell_type": "markdown",
   "metadata": {},
   "source": [
    "---"
   ]
  },
  {
   "cell_type": "code",
   "execution_count": 26,
   "metadata": {},
   "outputs": [
    {
     "data": {
      "text/plain": [
       "{0: set(), 1: set(), 2: set()}"
      ]
     },
     "execution_count": 26,
     "metadata": {},
     "output_type": "execute_result"
    }
   ],
   "source": [
    "emoji_scratch_track = {i: set() for i in range(3)}\n",
    "emoji_scratch_track"
   ]
  },
  {
   "cell_type": "code",
   "execution_count": 27,
   "metadata": {},
   "outputs": [
    {
     "name": "stdout",
     "output_type": "stream",
     "text": [
      "All sets in the dictionary are empty.\n"
     ]
    }
   ],
   "source": [
    "if not emoji_scratch_track:\n",
    "    print(\"The dictionary is empty.\")\n",
    "elif all(not s for s in emoji_scratch_track.values()):\n",
    "    print(\"All sets in the dictionary are empty.\")\n",
    "else:\n",
    "    print(\"The dictionary has some non-empty sets.\")"
   ]
  }
 ],
 "metadata": {
  "kernelspec": {
   "display_name": "Python 3",
   "language": "python",
   "name": "python3"
  },
  "language_info": {
   "codemirror_mode": {
    "name": "ipython",
    "version": 3
   },
   "file_extension": ".py",
   "mimetype": "text/x-python",
   "name": "python",
   "nbconvert_exporter": "python",
   "pygments_lexer": "ipython3",
   "version": "3.12.0"
  }
 },
 "nbformat": 4,
 "nbformat_minor": 2
}
