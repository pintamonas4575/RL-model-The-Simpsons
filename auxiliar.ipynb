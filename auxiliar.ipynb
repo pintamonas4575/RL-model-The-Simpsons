{
 "cells": [
  {
   "cell_type": "markdown",
   "metadata": {},
   "source": [
    "## **Simple test game** "
   ]
  },
  {
   "cell_type": "code",
   "execution_count": null,
   "metadata": {},
   "outputs": [],
   "source": [
    "import random\n",
    "\n",
    "symbols = [\"🔨\", \"🪓\", \"💣\", \"🍩\", \"⭐\"]\n",
    "# prizes, irrelevant\n",
    "prizes = { \n",
    "    \"🔨\": 1,   \n",
    "    \"🪓\": 2,   \n",
    "    \"💣\": 3,  \n",
    "    \"🍩\": 4,  \n",
    "    \"⭐\": 5,\n",
    "}\n",
    "\n",
    "def generate_symbols() -> list:\n",
    "    return random.choices(symbols, k=3)\n",
    "\n",
    "def check_prize(symbols: list) -> int:\n",
    "    return prizes[symbols[0]] if symbols[0] == symbols[1] == symbols[2] else 0"
   ]
  },
  {
   "cell_type": "code",
   "execution_count": null,
   "metadata": {},
   "outputs": [],
   "source": [
    "import tkinter as tk\n",
    "\n",
    "def play_game():\n",
    "    result = generate_symbols()\n",
    "    display_label.config(text=\" | \".join(result))\n",
    "    prize = check_prize(result)\n",
    "    if prize > 0:\n",
    "        result_label.config(text=f\"¡Ganaste {prize} puntos!\")\n",
    "    else:\n",
    "        result_label.config(text=\"¡Sigue intentando!\")\n",
    "\n",
    "window = tk.Tk()\n",
    "window.title(\"Juego Rasca y Gana\")\n",
    "\n",
    "display_label = tk.Label(window, text=\"Presiona 'Jugar' para comenzar\", font=(\"Arial\", 24))\n",
    "display_label.pack(pady=20)\n",
    "\n",
    "result_label = tk.Label(window, text=\"\", font=(\"Arial\", 18))\n",
    "result_label.pack(pady=10)\n",
    "\n",
    "play_button = tk.Button(window, text=\"Jugar\", command=play_game, font=(\"Arial\", 18))\n",
    "play_button.pack(pady=20)\n",
    "\n",
    "window.mainloop()"
   ]
  },
  {
   "cell_type": "markdown",
   "metadata": {},
   "source": [
    "---\n",
    "\n",
    "---"
   ]
  },
  {
   "cell_type": "markdown",
   "metadata": {},
   "source": [
    "## **Beta advances**"
   ]
  },
  {
   "cell_type": "code",
   "execution_count": null,
   "metadata": {},
   "outputs": [],
   "source": [
    "import tkinter as tk\n",
    "import random\n",
    "from tkinter import ttk\n",
    "\n",
    "# symbols = [\"🔨\", \"🪓\", \"💣\", \"🍩\", \"⭐\"]\n",
    "symbols = [\"hammer.png\", \"axe.png\", \"bomb.png\", \"doughnut.png\", \"star.png\"]\n",
    "emojis = random.choices(symbols, k=3)\n",
    "\n",
    "try:\n",
    "    window = tk.Tk()\n",
    "    # window.config(bg='black')\n",
    "    window.title(\"RL model Scratch & Win\")\n",
    "    window.geometry('1000x500')\n",
    "\n",
    "    # mantener \"vivas\" las imágenes\n",
    "    images = []\n",
    "\n",
    "    for i, emoji in enumerate(emojis):\n",
    "        emoji_image = tk.PhotoImage(name=emoji, file=f\"emojis/{emoji}\")\n",
    "        emoji_image = emoji_image.subsample(1, 1)\n",
    "        images.append(emoji_image)  # Guardar referencia de la imagen\n",
    "        label = ttk.Label(window, image=emoji_image)\n",
    "        label.place(relx=0.3 + i * 0.2, rely=0.5, anchor=\"center\")\n",
    "\n",
    "    window.mainloop()\n",
    "\n",
    "except Exception as e:\n",
    "    print(e)\n",
    "    window.destroy()"
   ]
  },
  {
   "cell_type": "markdown",
   "metadata": {},
   "source": [
    "---"
   ]
  },
  {
   "cell_type": "markdown",
   "metadata": {},
   "source": [
    "**This cell only works in .py**"
   ]
  },
  {
   "cell_type": "code",
   "execution_count": null,
   "metadata": {},
   "outputs": [],
   "source": [
    "import tkinter as tk\n",
    "import random\n",
    "from tkinter import ttk\n",
    "from PIL import ImageGrab\n",
    "\n",
    "def capturar_y_guardar():\n",
    "    try:\n",
    "        # Obtener las coordenadas de la ventana\n",
    "        x = window.winfo_rootx()\n",
    "        y = window.winfo_rooty()\n",
    "        width = window.winfo_width()\n",
    "        height = window.winfo_height()\n",
    "\n",
    "        # Capturar la ventana\n",
    "        imagen = ImageGrab.grab(bbox=(x, y, x + width, y + height))\n",
    "        imagen.save(\"captura_ventana.png\")  # Guardar la imagen\n",
    "        print(\"Captura guardada como 'captura_ventana.png'\")\n",
    "        window.quit()  # Cerrar la ventana (opcional)\n",
    "    except Exception as e:\n",
    "        print(\"Error al capturar la ventana:\", e)\n",
    "\n",
    "symbols = [\"hammer.png\", \"axe.png\", \"bomb.png\", \"doughnut.png\", \"star.png\"]\n",
    "emojis = random.choices(symbols, k=3)\n",
    "\n",
    "try:\n",
    "    window = tk.Tk()\n",
    "    # window.config(bg='black')\n",
    "    window.title(\"RL model Scratch & Win\")\n",
    "    window.geometry('1000x500')\n",
    "\n",
    "    # mantener \"vivas\" las imágenes\n",
    "    images = []\n",
    "\n",
    "    for i, emoji in enumerate(emojis):\n",
    "        emoji_image = tk.PhotoImage(name=emoji, file=f\"emojis/{emoji}\")\n",
    "        emoji_image = emoji_image.subsample(1, 1)\n",
    "        images.append(emoji_image)  # Guardar referencia de la imagen\n",
    "        label = ttk.Label(window, image=emoji_image)\n",
    "        label.place(relx=0.3 + i * 0.2, rely=0.5, anchor=\"center\")\n",
    "\n",
    "    window.after(1000, capturar_y_guardar)  # Esperar 100ms antes de capturar\n",
    "    window.mainloop()\n",
    "\n",
    "except Exception as e:\n",
    "    print(e)\n",
    "    window.destroy()"
   ]
  },
  {
   "cell_type": "markdown",
   "metadata": {},
   "source": [
    "---"
   ]
  }
 ],
 "metadata": {
  "kernelspec": {
   "display_name": "Python 3",
   "language": "python",
   "name": "python3"
  },
  "language_info": {
   "codemirror_mode": {
    "name": "ipython",
    "version": 3
   },
   "file_extension": ".py",
   "mimetype": "text/x-python",
   "name": "python",
   "nbconvert_exporter": "python",
   "pygments_lexer": "ipython3",
   "version": "3.12.0"
  }
 },
 "nbformat": 4,
 "nbformat_minor": 2
}
